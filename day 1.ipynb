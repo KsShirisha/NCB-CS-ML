{
 "cells": [
  {
   "cell_type": "code",
   "execution_count": 1,
   "id": "7f649ab0-a9e1-48e0-8870-61c678f70d14",
   "metadata": {},
   "outputs": [
    {
     "name": "stdout",
     "output_type": "stream",
     "text": [
      "hello\n"
     ]
    }
   ],
   "source": [
    "print(\"hello\")"
   ]
  },
  {
   "cell_type": "code",
   "execution_count": 3,
   "id": "b983cbce-9623-4437-af2c-7e9e7c46b269",
   "metadata": {},
   "outputs": [
    {
     "name": "stdout",
     "output_type": "stream",
     "text": [
      "20\n"
     ]
    }
   ],
   "source": [
    "a=20\n",
    "print(a)"
   ]
  },
  {
   "cell_type": "code",
   "execution_count": 5,
   "id": "1e5db744-f7d3-434f-81f8-746fc17baf53",
   "metadata": {},
   "outputs": [
    {
     "data": {
      "text/plain": [
       "20"
      ]
     },
     "execution_count": 5,
     "metadata": {},
     "output_type": "execute_result"
    }
   ],
   "source": [
    "a"
   ]
  },
  {
   "cell_type": "code",
   "execution_count": 7,
   "id": "8dc2aea6-7d07-4524-8a33-ff5858961c35",
   "metadata": {},
   "outputs": [
    {
     "name": "stdout",
     "output_type": "stream",
     "text": [
      "value of a is  20\n"
     ]
    }
   ],
   "source": [
    "print(\"value of a is \",a)"
   ]
  },
  {
   "cell_type": "code",
   "execution_count": 13,
   "id": "36c43903-dc98-4967-91ac-ed1dcb0086eb",
   "metadata": {},
   "outputs": [
    {
     "name": "stdout",
     "output_type": "stream",
     "text": [
      "sum of 30 and 20 is 50\n"
     ]
    }
   ],
   "source": [
    "a=20\n",
    "b=30\n",
    "c=a+b\n",
    "print(\"sum of {1} and {0} is {2}\".format(a,b,c))"
   ]
  },
  {
   "cell_type": "code",
   "execution_count": 15,
   "id": "9171d447-4cc1-44f1-9ce6-841b08f91154",
   "metadata": {},
   "outputs": [
    {
     "name": "stdout",
     "output_type": "stream",
     "text": [
      "sum of 20 and 30 is 50\n"
     ]
    }
   ],
   "source": [
    "a=20\n",
    "b=30\n",
    "c=a+b\n",
    "print(\"sum of {} and {} is {}\".format(a,b,c))"
   ]
  },
  {
   "cell_type": "code",
   "execution_count": 1,
   "id": "4b5ee6af-3e5e-4090-9bde-914ae138dbe0",
   "metadata": {},
   "outputs": [
    {
     "data": {
      "text/plain": [
       "int"
      ]
     },
     "execution_count": 1,
     "metadata": {},
     "output_type": "execute_result"
    }
   ],
   "source": [
    "a=30\n",
    "type(a)"
   ]
  },
  {
   "cell_type": "code",
   "execution_count": 3,
   "id": "843c34cf-e328-43c3-be0a-761e0d8d89a8",
   "metadata": {},
   "outputs": [
    {
     "data": {
      "text/plain": [
       "float"
      ]
     },
     "execution_count": 3,
     "metadata": {},
     "output_type": "execute_result"
    }
   ],
   "source": [
    "a=100.34\n",
    "type(a)"
   ]
  },
  {
   "cell_type": "code",
   "execution_count": 5,
   "id": "ece28ccf-500b-49b8-bb0a-d0b84f102492",
   "metadata": {},
   "outputs": [
    {
     "data": {
      "text/plain": [
       "str"
      ]
     },
     "execution_count": 5,
     "metadata": {},
     "output_type": "execute_result"
    }
   ],
   "source": [
    "a=\"NCB\"\n",
    "type(a)"
   ]
  },
  {
   "cell_type": "code",
   "execution_count": 9,
   "id": "a2bae437-5f8c-469c-b0f6-f30366e43115",
   "metadata": {},
   "outputs": [
    {
     "data": {
      "text/plain": [
       "bool"
      ]
     },
     "execution_count": 9,
     "metadata": {},
     "output_type": "execute_result"
    }
   ],
   "source": [
    "a=True\n",
    "type(a)"
   ]
  },
  {
   "cell_type": "code",
   "execution_count": 11,
   "id": "36b5d67b-f03d-4f12-9cdb-c2c4a3275dea",
   "metadata": {},
   "outputs": [
    {
     "data": {
      "text/plain": [
       "101"
      ]
     },
     "execution_count": 11,
     "metadata": {},
     "output_type": "execute_result"
    }
   ],
   "source": [
    "a=100+True\n",
    "a"
   ]
  },
  {
   "cell_type": "code",
   "execution_count": 25,
   "id": "ea4f9d1a-0236-4ee0-858e-c0dc3492d939",
   "metadata": {},
   "outputs": [
    {
     "data": {
      "text/plain": [
       "99"
      ]
     },
     "execution_count": 25,
     "metadata": {},
     "output_type": "execute_result"
    }
   ],
   "source": [
    "s=100-True\n",
    "s"
   ]
  },
  {
   "cell_type": "code",
   "execution_count": 31,
   "id": "0a9d854b-1d54-4ba5-92b1-471f2cbca5e3",
   "metadata": {},
   "outputs": [
    {
     "data": {
      "text/plain": [
       "0"
      ]
     },
     "execution_count": 31,
     "metadata": {},
     "output_type": "execute_result"
    }
   ],
   "source": [
    "d=False*10\n",
    "d"
   ]
  },
  {
   "cell_type": "code",
   "execution_count": 35,
   "id": "e817bf5d-bc64-4fc8-a05b-34bdfd8bb998",
   "metadata": {},
   "outputs": [
    {
     "data": {
      "text/plain": [
       "1100.1"
      ]
     },
     "execution_count": 35,
     "metadata": {},
     "output_type": "execute_result"
    }
   ],
   "source": [
    "a=100.10\n",
    "b=1000\n",
    "a+b"
   ]
  },
  {
   "cell_type": "code",
   "execution_count": 49,
   "id": "7f93ba84-138e-44d3-abfe-29055d0dae4b",
   "metadata": {},
   "outputs": [
    {
     "data": {
      "text/plain": [
       "str"
      ]
     },
     "execution_count": 49,
     "metadata": {},
     "output_type": "execute_result"
    }
   ],
   "source": [
    "a=100\n",
    "b=str(a)\n",
    "type(b)"
   ]
  },
  {
   "cell_type": "code",
   "execution_count": 41,
   "id": "00713383-a0fc-4bfd-bb13-6e2401d48d43",
   "metadata": {},
   "outputs": [
    {
     "data": {
      "text/plain": [
       "100.0"
      ]
     },
     "execution_count": 41,
     "metadata": {},
     "output_type": "execute_result"
    }
   ],
   "source": [
    "float(a)"
   ]
  },
  {
   "cell_type": "code",
   "execution_count": 45,
   "id": "a9f8c82b-cac1-4e91-bc52-0df03a3e3706",
   "metadata": {},
   "outputs": [
    {
     "data": {
      "text/plain": [
       "str"
      ]
     },
     "execution_count": 45,
     "metadata": {},
     "output_type": "execute_result"
    }
   ],
   "source": [
    "a=\"40\"\n",
    "type(a)"
   ]
  },
  {
   "cell_type": "code",
   "execution_count": 51,
   "id": "26b29897-6571-429f-9f45-8db8cf666a6c",
   "metadata": {},
   "outputs": [
    {
     "data": {
      "text/plain": [
       "100"
      ]
     },
     "execution_count": 51,
     "metadata": {},
     "output_type": "execute_result"
    }
   ],
   "source": [
    "int(a)"
   ]
  },
  {
   "cell_type": "code",
   "execution_count": 53,
   "id": "d3e95b2b-9fb7-433c-a817-ec156015ef41",
   "metadata": {},
   "outputs": [
    {
     "data": {
      "text/plain": [
       "False"
      ]
     },
     "execution_count": 53,
     "metadata": {},
     "output_type": "execute_result"
    }
   ],
   "source": [
    "20==30"
   ]
  },
  {
   "cell_type": "code",
   "execution_count": 55,
   "id": "99845eca-f268-4317-b65e-4a204610de8b",
   "metadata": {},
   "outputs": [
    {
     "data": {
      "text/plain": [
       "True"
      ]
     },
     "execution_count": 55,
     "metadata": {},
     "output_type": "execute_result"
    }
   ],
   "source": [
    "30!=20"
   ]
  },
  {
   "cell_type": "code",
   "execution_count": 67,
   "id": "5015ea54-8492-407f-aee3-3ab44cbc8c55",
   "metadata": {},
   "outputs": [
    {
     "name": "stdin",
     "output_type": "stream",
     "text": [
      "Enter a number 9\n"
     ]
    },
    {
     "name": "stdout",
     "output_type": "stream",
     "text": [
      "on\n"
     ]
    }
   ],
   "source": [
    "a=int(input(\"Enter a number\"))\n",
    "if a<=10:\n",
    "    print(\"on\")\n",
    "else:\n",
    "    print(\"Off\")\n",
    "\n",
    "   "
   ]
  },
  {
   "cell_type": "code",
   "execution_count": 17,
   "id": "371c2754-627e-489e-b579-2b191f1c174e",
   "metadata": {},
   "outputs": [
    {
     "name": "stdin",
     "output_type": "stream",
     "text": [
      "Enter a number 2\n"
     ]
    },
    {
     "name": "stdout",
     "output_type": "stream",
     "text": [
      "Number is 1\n"
     ]
    }
   ],
   "source": [
    "a=int(input(\"Enter a number\"))\n",
    "if a==2:\n",
    "    print(\"Number is 1\")\n",
    "elif a==2:\n",
    "    print(\"number is 2\")\n",
    "elif a==3:\n",
    "    print(\"number is 3\")\n",
    "else:\n",
    "    print(\"other\")\n",
    "\n"
   ]
  },
  {
   "cell_type": "code",
   "execution_count": 51,
   "id": "4ac90c43-57e5-4467-9b25-3149a04b6b8e",
   "metadata": {},
   "outputs": [
    {
     "name": "stdin",
     "output_type": "stream",
     "text": [
      "Enter a number 4000\n"
     ]
    },
    {
     "name": "stdout",
     "output_type": "stream",
     "text": [
      "amount from f 4000\n",
      "balance amount 6000\n"
     ]
    }
   ],
   "source": [
    "bill_amount=10000\n",
    "f=int(input(\"Enter a number\"))\n",
    "if f>0:\n",
    "    print(\"amount from f\",f)\n",
    "    if f>=bill_amount:\n",
    "        print(\"Fully paid\")\n",
    "    else:\n",
    "        balance=10000-f\n",
    "        print(\"balance amount\",balance)\n",
    "else:\n",
    "    print(\"full bill pending\")\n",
    "\n",
    "\n",
    "\n"
   ]
  },
  {
   "cell_type": "code",
   "execution_count": 55,
   "id": "2872543b-724b-4a81-9177-c1d74613ce4b",
   "metadata": {},
   "outputs": [
    {
     "data": {
      "text/plain": [
       "'ris'"
      ]
     },
     "execution_count": 55,
     "metadata": {},
     "output_type": "execute_result"
    }
   ],
   "source": [
    "a=\"shirisha\"\n",
    "len(a)\n",
    "a[3:6]"
   ]
  },
  {
   "cell_type": "code",
   "execution_count": 67,
   "id": "c967861d-4d33-44f1-87d5-e6d187f6814e",
   "metadata": {},
   "outputs": [
    {
     "name": "stdin",
     "output_type": "stream",
     "text": [
      " up\n"
     ]
    },
    {
     "name": "stdout",
     "output_type": "stream",
     "text": [
      "gate closed\n"
     ]
    }
   ],
   "source": [
    "v=input()\n",
    "a=v\n",
    "if a==\"ka\":\n",
    "    print(\"gate open\")\n",
    "elif a==\"tl\":\n",
    "    print(\"gate open\")\n",
    "elif a==\"ap\":\n",
    "    print(\"gate open\")\n",
    "else:\n",
    "    print(\"gate closed\")\n"
   ]
  },
  {
   "cell_type": "code",
   "execution_count": null,
   "id": "f07f9a88-b44e-4429-9a10-8311475d769b",
   "metadata": {},
   "outputs": [],
   "source": []
  }
 ],
 "metadata": {
  "kernelspec": {
   "display_name": "Python 3 (ipykernel)",
   "language": "python",
   "name": "python3"
  },
  "language_info": {
   "codemirror_mode": {
    "name": "ipython",
    "version": 3
   },
   "file_extension": ".py",
   "mimetype": "text/x-python",
   "name": "python",
   "nbconvert_exporter": "python",
   "pygments_lexer": "ipython3",
   "version": "3.12.4"
  }
 },
 "nbformat": 4,
 "nbformat_minor": 5
}
