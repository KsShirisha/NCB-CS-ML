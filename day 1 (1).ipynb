{
 "cells": [
  {
   "cell_type": "code",
   "execution_count": 1,
   "id": "7f649ab0-a9e1-48e0-8870-61c678f70d14",
   "metadata": {},
   "outputs": [
    {
     "name": "stdout",
     "output_type": "stream",
     "text": [
      "hello\n"
     ]
    }
   ],
   "source": [
    "print(\"hello\")"
   ]
  },
  {
   "cell_type": "code",
   "execution_count": 3,
   "id": "b983cbce-9623-4437-af2c-7e9e7c46b269",
   "metadata": {},
   "outputs": [
    {
     "name": "stdout",
     "output_type": "stream",
     "text": [
      "20\n"
     ]
    }
   ],
   "source": [
    "a=20\n",
    "print(a)"
   ]
  },
  {
   "cell_type": "code",
   "execution_count": 5,
   "id": "1e5db744-f7d3-434f-81f8-746fc17baf53",
   "metadata": {},
   "outputs": [
    {
     "data": {
      "text/plain": [
       "20"
      ]
     },
     "execution_count": 5,
     "metadata": {},
     "output_type": "execute_result"
    }
   ],
   "source": [
    "a"
   ]
  },
  {
   "cell_type": "code",
   "execution_count": 7,
   "id": "8dc2aea6-7d07-4524-8a33-ff5858961c35",
   "metadata": {},
   "outputs": [
    {
     "name": "stdout",
     "output_type": "stream",
     "text": [
      "value of a is  20\n"
     ]
    }
   ],
   "source": [
    "print(\"value of a is \",a)"
   ]
  },
  {
   "cell_type": "code",
   "execution_count": 13,
   "id": "36c43903-dc98-4967-91ac-ed1dcb0086eb",
   "metadata": {},
   "outputs": [
    {
     "name": "stdout",
     "output_type": "stream",
     "text": [
      "sum of 30 and 20 is 50\n"
     ]
    }
   ],
   "source": [
    "a=20\n",
    "b=30\n",
    "c=a+b\n",
    "print(\"sum of {1} and {0} is {2}\".format(a,b,c))"
   ]
  },
  {
   "cell_type": "code",
   "execution_count": 15,
   "id": "9171d447-4cc1-44f1-9ce6-841b08f91154",
   "metadata": {},
   "outputs": [
    {
     "name": "stdout",
     "output_type": "stream",
     "text": [
      "sum of 20 and 30 is 50\n"
     ]
    }
   ],
   "source": [
    "a=20\n",
    "b=30\n",
    "c=a+b\n",
    "print(\"sum of {} and {} is {}\".format(a,b,c))"
   ]
  },
  {
   "cell_type": "code",
   "execution_count": 1,
   "id": "4b5ee6af-3e5e-4090-9bde-914ae138dbe0",
   "metadata": {},
   "outputs": [
    {
     "data": {
      "text/plain": [
       "int"
      ]
     },
     "execution_count": 1,
     "metadata": {},
     "output_type": "execute_result"
    }
   ],
   "source": [
    "a=30\n",
    "type(a)"
   ]
  },
  {
   "cell_type": "code",
   "execution_count": 3,
   "id": "843c34cf-e328-43c3-be0a-761e0d8d89a8",
   "metadata": {},
   "outputs": [
    {
     "data": {
      "text/plain": [
       "float"
      ]
     },
     "execution_count": 3,
     "metadata": {},
     "output_type": "execute_result"
    }
   ],
   "source": [
    "a=100.34\n",
    "type(a)"
   ]
  },
  {
   "cell_type": "code",
   "execution_count": 5,
   "id": "ece28ccf-500b-49b8-bb0a-d0b84f102492",
   "metadata": {},
   "outputs": [
    {
     "data": {
      "text/plain": [
       "str"
      ]
     },
     "execution_count": 5,
     "metadata": {},
     "output_type": "execute_result"
    }
   ],
   "source": [
    "a=\"NCB\"\n",
    "type(a)"
   ]
  },
  {
   "cell_type": "code",
   "execution_count": 9,
   "id": "a2bae437-5f8c-469c-b0f6-f30366e43115",
   "metadata": {},
   "outputs": [
    {
     "data": {
      "text/plain": [
       "bool"
      ]
     },
     "execution_count": 9,
     "metadata": {},
     "output_type": "execute_result"
    }
   ],
   "source": [
    "a=True\n",
    "type(a)"
   ]
  },
  {
   "cell_type": "code",
   "execution_count": 11,
   "id": "36b5d67b-f03d-4f12-9cdb-c2c4a3275dea",
   "metadata": {},
   "outputs": [
    {
     "data": {
      "text/plain": [
       "101"
      ]
     },
     "execution_count": 11,
     "metadata": {},
     "output_type": "execute_result"
    }
   ],
   "source": [
    "a=100+True\n",
    "a"
   ]
  },
  {
   "cell_type": "code",
   "execution_count": 25,
   "id": "ea4f9d1a-0236-4ee0-858e-c0dc3492d939",
   "metadata": {},
   "outputs": [
    {
     "data": {
      "text/plain": [
       "99"
      ]
     },
     "execution_count": 25,
     "metadata": {},
     "output_type": "execute_result"
    }
   ],
   "source": [
    "s=100-True\n",
    "s"
   ]
  },
  {
   "cell_type": "code",
   "execution_count": 31,
   "id": "0a9d854b-1d54-4ba5-92b1-471f2cbca5e3",
   "metadata": {},
   "outputs": [
    {
     "data": {
      "text/plain": [
       "0"
      ]
     },
     "execution_count": 31,
     "metadata": {},
     "output_type": "execute_result"
    }
   ],
   "source": [
    "d=False*10\n",
    "d"
   ]
  },
  {
   "cell_type": "code",
   "execution_count": 35,
   "id": "e817bf5d-bc64-4fc8-a05b-34bdfd8bb998",
   "metadata": {},
   "outputs": [
    {
     "data": {
      "text/plain": [
       "1100.1"
      ]
     },
     "execution_count": 35,
     "metadata": {},
     "output_type": "execute_result"
    }
   ],
   "source": [
    "a=100.10\n",
    "b=1000\n",
    "a+b"
   ]
  },
  {
   "cell_type": "code",
   "execution_count": 49,
   "id": "7f93ba84-138e-44d3-abfe-29055d0dae4b",
   "metadata": {},
   "outputs": [
    {
     "data": {
      "text/plain": [
       "str"
      ]
     },
     "execution_count": 49,
     "metadata": {},
     "output_type": "execute_result"
    }
   ],
   "source": [
    "a=100\n",
    "b=str(a)\n",
    "type(b)"
   ]
  },
  {
   "cell_type": "code",
   "execution_count": 41,
   "id": "00713383-a0fc-4bfd-bb13-6e2401d48d43",
   "metadata": {},
   "outputs": [
    {
     "data": {
      "text/plain": [
       "100.0"
      ]
     },
     "execution_count": 41,
     "metadata": {},
     "output_type": "execute_result"
    }
   ],
   "source": [
    "float(a)"
   ]
  },
  {
   "cell_type": "code",
   "execution_count": 45,
   "id": "a9f8c82b-cac1-4e91-bc52-0df03a3e3706",
   "metadata": {},
   "outputs": [
    {
     "data": {
      "text/plain": [
       "str"
      ]
     },
     "execution_count": 45,
     "metadata": {},
     "output_type": "execute_result"
    }
   ],
   "source": [
    "a=\"40\"\n",
    "type(a)"
   ]
  },
  {
   "cell_type": "code",
   "execution_count": 51,
   "id": "26b29897-6571-429f-9f45-8db8cf666a6c",
   "metadata": {},
   "outputs": [
    {
     "data": {
      "text/plain": [
       "100"
      ]
     },
     "execution_count": 51,
     "metadata": {},
     "output_type": "execute_result"
    }
   ],
   "source": [
    "int(a)"
   ]
  },
  {
   "cell_type": "code",
   "execution_count": 53,
   "id": "d3e95b2b-9fb7-433c-a817-ec156015ef41",
   "metadata": {},
   "outputs": [
    {
     "data": {
      "text/plain": [
       "False"
      ]
     },
     "execution_count": 53,
     "metadata": {},
     "output_type": "execute_result"
    }
   ],
   "source": [
    "20==30"
   ]
  },
  {
   "cell_type": "code",
   "execution_count": 55,
   "id": "99845eca-f268-4317-b65e-4a204610de8b",
   "metadata": {},
   "outputs": [
    {
     "data": {
      "text/plain": [
       "True"
      ]
     },
     "execution_count": 55,
     "metadata": {},
     "output_type": "execute_result"
    }
   ],
   "source": [
    "30!=20"
   ]
  },
  {
   "cell_type": "code",
   "execution_count": 67,
   "id": "5015ea54-8492-407f-aee3-3ab44cbc8c55",
   "metadata": {},
   "outputs": [
    {
     "name": "stdin",
     "output_type": "stream",
     "text": [
      "Enter a number 9\n"
     ]
    },
    {
     "name": "stdout",
     "output_type": "stream",
     "text": [
      "on\n"
     ]
    }
   ],
   "source": [
    "a=int(input(\"Enter a number\"))\n",
    "if a<=10:\n",
    "    print(\"on\")\n",
    "else:\n",
    "    print(\"Off\")\n",
    "\n",
    "   "
   ]
  },
  {
   "cell_type": "code",
   "execution_count": 17,
   "id": "371c2754-627e-489e-b579-2b191f1c174e",
   "metadata": {},
   "outputs": [
    {
     "name": "stdin",
     "output_type": "stream",
     "text": [
      "Enter a number 2\n"
     ]
    },
    {
     "name": "stdout",
     "output_type": "stream",
     "text": [
      "Number is 1\n"
     ]
    }
   ],
   "source": [
    "a=int(input(\"Enter a number\"))\n",
    "if a==2:\n",
    "    print(\"Number is 1\")\n",
    "elif a==2:\n",
    "    print(\"number is 2\")\n",
    "elif a==3:\n",
    "    print(\"number is 3\")\n",
    "else:\n",
    "    print(\"other\")\n",
    "\n"
   ]
  },
  {
   "cell_type": "code",
   "execution_count": 51,
   "id": "4ac90c43-57e5-4467-9b25-3149a04b6b8e",
   "metadata": {},
   "outputs": [
    {
     "name": "stdin",
     "output_type": "stream",
     "text": [
      "Enter a number 4000\n"
     ]
    },
    {
     "name": "stdout",
     "output_type": "stream",
     "text": [
      "amount from f 4000\n",
      "balance amount 6000\n"
     ]
    }
   ],
   "source": [
    "bill_amount=10000\n",
    "f=int(input(\"Enter a number\"))\n",
    "if f>0:\n",
    "    print(\"amount from f\",f)\n",
    "    if f>=bill_amount:\n",
    "        print(\"Fully paid\")\n",
    "    else:\n",
    "        balance=10000-f\n",
    "        print(\"balance amount\",balance)\n",
    "else:\n",
    "    print(\"full bill pending\")\n",
    "\n",
    "\n",
    "\n"
   ]
  },
  {
   "cell_type": "code",
   "execution_count": 55,
   "id": "2872543b-724b-4a81-9177-c1d74613ce4b",
   "metadata": {},
   "outputs": [
    {
     "data": {
      "text/plain": [
       "'ris'"
      ]
     },
     "execution_count": 55,
     "metadata": {},
     "output_type": "execute_result"
    }
   ],
   "source": [
    "a=\"shirisha\"\n",
    "len(a)\n",
    "a[3:6]"
   ]
  },
  {
   "cell_type": "code",
   "execution_count": 67,
   "id": "c967861d-4d33-44f1-87d5-e6d187f6814e",
   "metadata": {},
   "outputs": [
    {
     "name": "stdin",
     "output_type": "stream",
     "text": [
      " up\n"
     ]
    },
    {
     "name": "stdout",
     "output_type": "stream",
     "text": [
      "gate closed\n"
     ]
    }
   ],
   "source": [
    "v=input()\n",
    "a=v\n",
    "if a==\"ka\":\n",
    "    print(\"gate open\")\n",
    "elif a==\"tl\":\n",
    "    print(\"gate open\")\n",
    "elif a==\"ap\":\n",
    "    print(\"gate open\")\n",
    "else:\n",
    "    print(\"gate closed\")\n"
   ]
  },
  {
   "cell_type": "code",
   "execution_count": 1,
   "id": "f07f9a88-b44e-4429-9a10-8311475d769b",
   "metadata": {},
   "outputs": [
    {
     "data": {
      "text/plain": [
       "'HELLO'"
      ]
     },
     "execution_count": 1,
     "metadata": {},
     "output_type": "execute_result"
    }
   ],
   "source": [
    "a=\"hello\"\n",
    "a.upper()\n"
   ]
  },
  {
   "cell_type": "code",
   "execution_count": 3,
   "id": "2af2a73f-4b7b-4a8f-91cc-eba6cb032663",
   "metadata": {},
   "outputs": [
    {
     "data": {
      "text/plain": [
       "'hello'"
      ]
     },
     "execution_count": 3,
     "metadata": {},
     "output_type": "execute_result"
    }
   ],
   "source": [
    "a.lower()"
   ]
  },
  {
   "cell_type": "code",
   "execution_count": 5,
   "id": "b713781e-62ec-4afa-9c02-b60fa0639383",
   "metadata": {},
   "outputs": [
    {
     "data": {
      "text/plain": [
       "'tharun teja'"
      ]
     },
     "execution_count": 5,
     "metadata": {},
     "output_type": "execute_result"
    }
   ],
   "source": [
    "a=\"tharun teja\"\n",
    "a.strip(\"!\")"
   ]
  },
  {
   "cell_type": "code",
   "execution_count": 7,
   "id": "37fc29cf-5f40-44ee-b9b3-4bc131728f73",
   "metadata": {},
   "outputs": [
    {
     "data": {
      "text/plain": [
       "'tharun pallu'"
      ]
     },
     "execution_count": 7,
     "metadata": {},
     "output_type": "execute_result"
    }
   ],
   "source": [
    "a.replace(\"teja\",\"pallu\")"
   ]
  },
  {
   "cell_type": "code",
   "execution_count": 9,
   "id": "66e3b198-4019-4dc7-b629-1a3df865a700",
   "metadata": {},
   "outputs": [],
   "source": [
    "# And,Or,Not"
   ]
  },
  {
   "cell_type": "code",
   "execution_count": 13,
   "id": "1a7c3f7d-100a-4703-9754-9407169016c7",
   "metadata": {},
   "outputs": [
    {
     "data": {
      "text/plain": [
       "False"
      ]
     },
     "execution_count": 13,
     "metadata": {},
     "output_type": "execute_result"
    }
   ],
   "source": [
    "x=20\n",
    "x>13 and x>40"
   ]
  },
  {
   "cell_type": "code",
   "execution_count": 15,
   "id": "bf6f239b-5683-42b9-a117-3928026fa69f",
   "metadata": {},
   "outputs": [
    {
     "data": {
      "text/plain": [
       "True"
      ]
     },
     "execution_count": 15,
     "metadata": {},
     "output_type": "execute_result"
    }
   ],
   "source": [
    "x=50\n",
    "x>40 and x>40"
   ]
  },
  {
   "cell_type": "code",
   "execution_count": 46,
   "id": "44f67762-7735-46eb-b94d-506111a2afd9",
   "metadata": {},
   "outputs": [
    {
     "name": "stdout",
     "output_type": "stream",
     "text": [
      "covide -ve\n"
     ]
    }
   ],
   "source": [
    "a=True\n",
    "b=False\n",
    "if a<=False and b==True:\n",
    "    print(\"covide +ve\")\n",
    "else:\n",
    "   print(\"covide -ve\")\n",
    "\n",
    "    "
   ]
  },
  {
   "cell_type": "code",
   "execution_count": 56,
   "id": "7d1223b3-ae40-4fa0-abd3-ca5f13e26a0a",
   "metadata": {},
   "outputs": [
    {
     "name": "stdin",
     "output_type": "stream",
     "text": [
      "Enter a number 20000\n",
      "Enter a number 4\n"
     ]
    },
    {
     "name": "stdout",
     "output_type": "stream",
     "text": [
      "loan approved\n"
     ]
    }
   ],
   "source": [
    "salarey=int(input(\"Enter a number\"))\n",
    "land=int(input(\"Enter a number\"))\n",
    "if salarey>=50000 or land>=5:\n",
    "    print(\"loan approved\")\n",
    "else:\n",
    "    print(\"loan not approved\")\n"
   ]
  },
  {
   "cell_type": "code",
   "execution_count": 58,
   "id": "8626b301-3312-4db6-8323-80d116e4d49a",
   "metadata": {},
   "outputs": [
    {
     "name": "stdout",
     "output_type": "stream",
     "text": [
      "False\n"
     ]
    }
   ],
   "source": [
    "s=\"teja\"\n",
    "print(\"h\" in s)"
   ]
  },
  {
   "cell_type": "code",
   "execution_count": 60,
   "id": "67c628bc-f8dd-48b0-bcc7-2699e1f60358",
   "metadata": {},
   "outputs": [
    {
     "name": "stdout",
     "output_type": "stream",
     "text": [
      "True\n"
     ]
    }
   ],
   "source": [
    "print(\"p\" not in s)"
   ]
  },
  {
   "cell_type": "code",
   "execution_count": 62,
   "id": "cb110b54-2a7c-4b84-853d-ac1dd1cd9581",
   "metadata": {},
   "outputs": [
    {
     "name": "stdout",
     "output_type": "stream",
     "text": [
      "t\n",
      "e\n",
      "j\n",
      "a\n"
     ]
    }
   ],
   "source": [
    "s=\"teja\"\n",
    "for i in s:\n",
    "    print(i)"
   ]
  },
  {
   "cell_type": "code",
   "execution_count": 64,
   "id": "6771e226-feb3-400e-b000-7df94f654baa",
   "metadata": {},
   "outputs": [
    {
     "name": "stdout",
     "output_type": "stream",
     "text": [
      "2\n",
      "4\n",
      "6\n",
      "8\n",
      "10\n"
     ]
    }
   ],
   "source": [
    "for i in range(2,11,2):\n",
    "    print(i)"
   ]
  },
  {
   "cell_type": "code",
   "execution_count": 13,
   "id": "545185e0-4cef-477a-b3da-32b01b981ed0",
   "metadata": {},
   "outputs": [
    {
     "name": "stdin",
     "output_type": "stream",
     "text": [
      "Enter a number 4\n"
     ]
    },
    {
     "name": "stdout",
     "output_type": "stream",
     "text": [
      "sum of 4 is1\n",
      "sum of 4 is3\n",
      "sum of 4 is6\n",
      "sum of 4 is10\n"
     ]
    }
   ],
   "source": [
    "a=int(input(\"Enter a number\"))\n",
    "sum=0\n",
    "b=1\n",
    "while b<=a:\n",
    "    sum=sum+b\n",
    "    b=b+1\n",
    "    print(\"sum of {} is{}\".format(a,sum))"
   ]
  },
  {
   "cell_type": "code",
   "execution_count": 17,
   "id": "cf7e6a6e-f52e-401a-94f8-1ac9367e97f8",
   "metadata": {},
   "outputs": [
    {
     "name": "stdin",
     "output_type": "stream",
     "text": [
      "Enter a number teja\n",
      "try again pallu\n",
      "try again shirisha\n"
     ]
    },
    {
     "name": "stdout",
     "output_type": "stream",
     "text": [
      "password correct\n"
     ]
    }
   ],
   "source": [
    "n=input(\"Enter a number\")\n",
    "p=\"shirisha\"\n",
    "count=1\n",
    "while(count<3) and (n!=p):\n",
    "    count=count+1\n",
    "    n=input(\"try again\")\n",
    "if n==p:\n",
    "    print(\"password correct\")\n",
    "else:\n",
    "    print(\"password lock\")"
   ]
  },
  {
   "cell_type": "code",
   "execution_count": 21,
   "id": "4e846ba5-83c6-47a7-bef3-f7e9e7e07296",
   "metadata": {},
   "outputs": [
    {
     "data": {
      "text/plain": [
       "['a', 'b']"
      ]
     },
     "execution_count": 21,
     "metadata": {},
     "output_type": "execute_result"
    }
   ],
   "source": [
    "li=[\"a\",\"b\",\"c\",\"d\"]\n",
    "li[0:2]\n",
    "\n"
   ]
  },
  {
   "cell_type": "code",
   "execution_count": 23,
   "id": "ad9e799a-cd8e-470b-9566-003272ba6b1c",
   "metadata": {},
   "outputs": [
    {
     "data": {
      "text/plain": [
       "['a', 'b', 'c', 'd', 'e']"
      ]
     },
     "execution_count": 23,
     "metadata": {},
     "output_type": "execute_result"
    }
   ],
   "source": [
    "li.append(\"e\")\n",
    "li"
   ]
  },
  {
   "cell_type": "code",
   "execution_count": 29,
   "id": "45594075-8245-4f0b-98c5-24bf1fd9704f",
   "metadata": {},
   "outputs": [
    {
     "data": {
      "text/plain": [
       "['a', 'T', 'b', 'c', 'T', 'T', 'd', 'e']"
      ]
     },
     "execution_count": 29,
     "metadata": {},
     "output_type": "execute_result"
    }
   ],
   "source": [
    "li.insert(1,\"T\")\n",
    "li"
   ]
  },
  {
   "cell_type": "code",
   "execution_count": 31,
   "id": "94377367-6e9b-44c6-860c-7ea8d385ac62",
   "metadata": {},
   "outputs": [
    {
     "data": {
      "text/plain": [
       "['a', 'A', 'T', 'b', 'c', 'T', 'T', 'd', 'e']"
      ]
     },
     "execution_count": 31,
     "metadata": {},
     "output_type": "execute_result"
    }
   ],
   "source": [
    "li.insert(1,\"A\")\n",
    "li"
   ]
  },
  {
   "cell_type": "code",
   "execution_count": 53,
   "id": "fa88a757-3532-459c-a8b0-ad0035899a69",
   "metadata": {},
   "outputs": [
    {
     "data": {
      "text/plain": [
       "[]"
      ]
     },
     "execution_count": 53,
     "metadata": {},
     "output_type": "execute_result"
    }
   ],
   "source": [
    "li.clear()\n",
    "li"
   ]
  },
  {
   "cell_type": "code",
   "execution_count": 55,
   "id": "ce8586e4-7dda-404b-801f-585eab8c7fdc",
   "metadata": {},
   "outputs": [
    {
     "name": "stdout",
     "output_type": "stream",
     "text": [
      "[4, 6, 8, 10, 12, 14, 16]\n"
     ]
    }
   ],
   "source": [
    "list1=[2,3,4,5,6,7,8]\n",
    "result=[]\n",
    "for i in list1:\n",
    "    result.append(i*2)\n",
    "print(result)"
   ]
  },
  {
   "cell_type": "code",
   "execution_count": null,
   "id": "d6cfcc97-755e-4d31-a061-84ed28274cc3",
   "metadata": {},
   "outputs": [],
   "source": [
    "list1=[2,3,4,5,6,7,8]\n",
    "result1=[x**2 for x in list1]\n",
    "print(result1)"
   ]
  }
 ],
 "metadata": {
  "kernelspec": {
   "display_name": "Python 3 (ipykernel)",
   "language": "python",
   "name": "python3"
  },
  "language_info": {
   "codemirror_mode": {
    "name": "ipython",
    "version": 3
   },
   "file_extension": ".py",
   "mimetype": "text/x-python",
   "name": "python",
   "nbconvert_exporter": "python",
   "pygments_lexer": "ipython3",
   "version": "3.12.4"
  }
 },
 "nbformat": 4,
 "nbformat_minor": 5
}
